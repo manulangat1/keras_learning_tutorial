{
  "nbformat": 4,
  "nbformat_minor": 0,
  "metadata": {
    "colab": {
      "name": "Untitled0.ipynb",
      "provenance": [],
      "collapsed_sections": [],
      "authorship_tag": "ABX9TyPzyC7m1AishL8NJNU2D7tk",
      "include_colab_link": true
    },
    "kernelspec": {
      "name": "python3",
      "display_name": "Python 3"
    }
  },
  "cells": [
    {
      "cell_type": "markdown",
      "metadata": {
        "id": "view-in-github",
        "colab_type": "text"
      },
      "source": [
        "<a href=\"https://colab.research.google.com/github/manulangat1/keras_learning_tutorial/blob/master/Untitled0.ipynb\" target=\"_parent\"><img src=\"https://colab.research.google.com/assets/colab-badge.svg\" alt=\"Open In Colab\"/></a>"
      ]
    },
    {
      "cell_type": "code",
      "metadata": {
        "id": "BKJFI8KtISeK",
        "colab_type": "code",
        "colab": {
          "base_uri": "https://localhost:8080/",
          "height": 646
        },
        "outputId": "409fb51c-9147-43b9-da55-2b87a721d5a6"
      },
      "source": [
        "import numpy as  np \n",
        "import pandas as pd \n",
        "%tensorflow_version 2.x \n",
        "import tensorflow as tf\n",
        "import keras\n",
        "import matplotlib.pyplot as plt\n",
        "# %matplotlib_inline\n",
        "\n",
        "from keras.datasets import mnist\n",
        "mnist_path = 'mnist.pkl.gz'\n",
        "\n",
        "(x_train,y_train),(x_test,y_test) = mnist.load_data(mnist_path)\n",
        "print(\"hello\")\n",
        "print(x_train.shape)\n",
        "print(np.unique(y_train,return_counts=True))\n",
        "print(np.unique(y_test,return_counts=True))\n",
        "\n",
        "fig  = plt.figure(figsize=(7,5))\n",
        "ax = fig.add_subplot(1,1,1)\n",
        "image = ax.imshow(x_train[0],plt.cm.Greys)\n",
        "image.set_interpolation('nearest')\n",
        "plt.show()\n",
        "\n",
        "# fig  = plt.figure(figsize=(7,5))\n",
        "# ax = fig.add_subplot(1,1,1)\n",
        "# image = ax.imshow(x_test[7],plt.cm.Greys)\n",
        "# image.set_interpolation('nearest')\n",
        "# plt.show()\n",
        "print(\"Multilayer Perception Model\")\n",
        "from keras.models import Sequential\n",
        "from keras.layers import Dense,Activation\n",
        "from keras.utils import np_utils\n",
        "\n",
        "(x_train,y_train),(x_test,y_test) = mnist.load_data(mnist_path)\n",
        "# print(x_train.shape)\n",
        "x_train = x_train.reshape(60000,784)\n",
        "x_test = x_test.reshape(10000,784)\n",
        "print(x_test.shape)\n",
        "x_train = x_train.astype('float32')\n",
        "x_test = x_test.astype('float32')\n",
        "# //diving each no by 255\n",
        "x_test /= 255\n",
        "x_train /= 255\n",
        "\n",
        "# build a model to recognise if a number is 7 or not\n",
        "np.random.seed(1111)\n",
        "Y = y_test.copy()\n",
        "Y_test = Y == 7 \n",
        "Y_test = Y_test.astype('int32')\n",
        "\n",
        "x_seven = x_train[y_train == 7].copy()\n",
        "y_seven = y_train[y_train == 7 ].copy()\n",
        "\n",
        "x_not_seven = x_train[y_train != 7].copy()\n",
        "y_not_seven = y_train[y_train != 7 ].copy()\n",
        "#random 6300 non seven number \n",
        "rand_rows = np.random.randint(0,x_seven.shape[0],6300)\n",
        "print(rand_rows)\n",
        "X_not_seven = x_not_seven[rand_rows]\n",
        "Y_not_seven = y_not_seven[rand_rows]\n",
        "print(X_not_seven.shape)\n",
        "x_train = np.append(x_seven,X_not_seven)\n",
        "x_train = x_train.reshape(x_seven.shape[0] + X_not_seven.shape[0],784)\n",
        "print(x_train.shape)\n",
        "y_label_seven = np.append(y_seven ,Y_not_seven)\n",
        "Y_train = y_label_seven == 7 \n",
        "Y_train = Y_train.astype(\"int32\")\n",
        "print(Y_train[:9])\n",
        "print(x_train.shape)\n",
        "print(Y_train.shape)\n",
        "print(x_test.shape)\n",
        "print(Y_test.shape)\n",
        "\n",
        "from keras.optimizers import SGD\n",
        "from keras.layers import Dropout\n",
        "batch_size = 256\n",
        "nb_epoch = 10\n",
        "activations = 'sigmoid'\n",
        "nb_classes = 2 \n",
        "Y_train = np_utils.to_categorical(Y_train,nb_classes)\n",
        "Y_test = np_utils.to_categorical(Y_test,nb_classes)\n",
        "\n",
        "model = Sequential()\n",
        "print(model)\n",
        "model.add(Dense(512,input_shape=(784,)))\n",
        "model.add(Activation('sigmoid'))\n",
        "\n",
        "model.add(Dropout(0.23))\n",
        "\n"
      ],
      "execution_count": 1,
      "outputs": [
        {
          "output_type": "stream",
          "text": [
            "Using TensorFlow backend.\n"
          ],
          "name": "stderr"
        },
        {
          "output_type": "stream",
          "text": [
            "Downloading data from https://s3.amazonaws.com/img-datasets/mnist.npz\n",
            "11493376/11490434 [==============================] - 2s 0us/step\n",
            "hello\n",
            "(60000, 28, 28)\n",
            "(array([0, 1, 2, 3, 4, 5, 6, 7, 8, 9], dtype=uint8), array([5923, 6742, 5958, 6131, 5842, 5421, 5918, 6265, 5851, 5949]))\n",
            "(array([0, 1, 2, 3, 4, 5, 6, 7, 8, 9], dtype=uint8), array([ 980, 1135, 1032, 1010,  982,  892,  958, 1028,  974, 1009]))\n"
          ],
          "name": "stdout"
        },
        {
          "output_type": "display_data",
          "data": {
            "image/png": "[encoded data removed]",
            "text/plain": [
              "<Figure size 504x360 with 1 Axes>"
            ]
          },
          "metadata": {
            "tags": [],
            "needs_background": "light"
          }
        },
        {
          "output_type": "stream",
          "text": [
            "Multilayer Perception Model\n",
            "(10000, 784)\n",
            "[2460  311 2789 ... 4597 3719 5612]\n",
            "(6300, 784)\n",
            "(12565, 784)\n",
            "[1 1 1 1 1 1 1 1 1]\n",
            "(12565, 784)\n",
            "(12565,)\n",
            "(10000, 784)\n",
            "(10000,)\n",
            "<keras.engine.sequential.Sequential object at 0x7f20dff3e048>\n"
          ],
          "name": "stdout"
        }
      ]
    },
    {
      "cell_type": "code",
      "metadata": {
        "id": "zbMfWpMSD9fk",
        "colab_type": "code",
        "colab": {
          "base_uri": "https://localhost:8080/",
          "height": 445
        },
        "outputId": "afa2c9c1-0691-4c11-8085-c46da56694cc"
      },
      "source": [
        "#first hiiden layer\n",
        "model.add(Dense(512))\n",
        "model.add(Activation('sigmoid'))\n",
        "model.add(Dropout(0.29))\n",
        "##second hiden layer \n",
        "model.add(Dense(512))\n",
        "model.add(Activation('sigmoid'))\n",
        "model.add(Dropout(0.29))\n",
        "model.add(Dense(512))\n",
        "model.add(Activation('sigmoid'))\n",
        "\n",
        "model.add(Dense(nb_classes))\n",
        "model.add(Activation('softmax'))\n",
        "print(\"model\")\n",
        "\n",
        "sgd = SGD(lr=0.1)\n",
        "model.compile(loss='categorical_crossentropy',optimizer='sgd',metrics=['accuracy'])\n",
        "model.fit(x_train,Y_train,batch_size=batch_size,nb_epoch=nb_epoch,verbose=1,validation_data=(x_test,Y_test))\n",
        "score  = model.evaluate(x_test,Y_test,verbose=0)\n",
        "print(score[1])"
      ],
      "execution_count": 3,
      "outputs": [
        {
          "output_type": "stream",
          "text": [
            "model\n"
          ],
          "name": "stdout"
        },
        {
          "output_type": "stream",
          "text": [
            "/usr/local/lib/python3.6/dist-packages/ipykernel_launcher.py:18: UserWarning: The `nb_epoch` argument in `fit` has been renamed `epochs`.\n"
          ],
          "name": "stderr"
        },
        {
          "output_type": "stream",
          "text": [
            "Train on 12565 samples, validate on 10000 samples\n",
            "Epoch 1/10\n",
            "12565/12565 [==============================] - 4s 330us/step - loss: 0.7059 - accuracy: 0.4968 - val_loss: 0.5212 - val_accuracy: 0.8972\n",
            "Epoch 2/10\n",
            "12565/12565 [==============================] - 4s 310us/step - loss: 0.6995 - accuracy: 0.4884 - val_loss: 0.7106 - val_accuracy: 0.1028\n",
            "Epoch 3/10\n",
            "12565/12565 [==============================] - 4s 315us/step - loss: 0.6984 - accuracy: 0.4960 - val_loss: 0.7231 - val_accuracy: 0.1028\n",
            "Epoch 4/10\n",
            "12565/12565 [==============================] - 4s 311us/step - loss: 0.6971 - accuracy: 0.4975 - val_loss: 0.7591 - val_accuracy: 0.1028\n",
            "Epoch 5/10\n",
            "12565/12565 [==============================] - 4s 314us/step - loss: 0.6983 - accuracy: 0.4965 - val_loss: 0.6067 - val_accuracy: 0.8972\n",
            "Epoch 6/10\n",
            "12565/12565 [==============================] - 4s 313us/step - loss: 0.6967 - accuracy: 0.5075 - val_loss: 0.8670 - val_accuracy: 0.1028\n",
            "Epoch 7/10\n",
            "12565/12565 [==============================] - 4s 311us/step - loss: 0.6980 - accuracy: 0.4947 - val_loss: 0.7216 - val_accuracy: 0.1028\n",
            "Epoch 8/10\n",
            "12565/12565 [==============================] - 4s 320us/step - loss: 0.6969 - accuracy: 0.4977 - val_loss: 0.8772 - val_accuracy: 0.1028\n",
            "Epoch 9/10\n",
            "12565/12565 [==============================] - 4s 316us/step - loss: 0.6981 - accuracy: 0.4977 - val_loss: 0.7827 - val_accuracy: 0.1028\n",
            "Epoch 10/10\n",
            "12565/12565 [==============================] - 4s 315us/step - loss: 0.6980 - accuracy: 0.4946 - val_loss: 0.5117 - val_accuracy: 0.8972\n",
            "0.8971999883651733\n"
          ],
          "name": "stdout"
        }
      ]
    },
    {
      "cell_type": "markdown",
      "metadata": {
        "id": "UjCaEqochI9W",
        "colab_type": "text"
      },
      "source": [
        ""
      ]
    },
    {
      "cell_type": "markdown",
      "metadata": {
        "id": "RLN3rQjd7w11",
        "colab_type": "text"
      },
      "source": [
        "# New Section\n",
        "keras with deep lizard.\n"
      ]
    },
    {
      "cell_type": "code",
      "metadata": {
        "id": "17u2uiy-77ZN",
        "colab_type": "code",
        "colab": {
          "base_uri": "https://localhost:8080/",
          "height": 1000
        },
        "outputId": "ee6c8fb8-3fdc-40ca-c7f0-fb53b1306a88"
      },
      "source": [
        "import numpy as np \n",
        "from random import randint \n",
        "from sklearn.utils import shuffle\n",
        "from sklearn.preprocessing import MinMaxScaler\n",
        "import tensorflow as tf \n",
        "from tensorflow import keras\n",
        "import keras \n",
        "from keras.models import Sequential\n",
        "from keras.layers import Activation,Dense\n",
        "from keras.optimizers import Adam\n",
        "from keras.metrics import categorical_crossentropy\n",
        "\n",
        "train_labels = []\n",
        "train_samples = [ ]\n",
        "\n",
        "for i in range(50):\n",
        "  random_younger = randint(13,64)\n",
        "  train_samples.append(random_younger)\n",
        "  train_labels.append(1)\n",
        "\n",
        "  random_older = randint(65,100)\n",
        "  train_samples.append(random_older)\n",
        "  train_labels.append(0)\n",
        "\n",
        "\n",
        "\n",
        "for i in range(1000):\n",
        "  random_younger = randint(13,64)\n",
        "  train_samples.append(random_younger)\n",
        "  train_labels.append(0)\n",
        "\n",
        "  random_older = randint(65,100)\n",
        "  train_samples.append(random_older)\n",
        "  train_labels.append(1)\n",
        "\n",
        "\n",
        "train_labels = np.array(train_labels)\n",
        "train_samples = np.array(train_samples)\n",
        "train_labels,train_samples = shuffle(train_labels,train_samples)\n",
        "\n",
        "print(train_samples)\n",
        "print(train_labels)\n",
        "\n",
        "scaler = MinMaxScaler(feature_range=(0,1))\n",
        "scaled_train_samples = scaler.fit_transform(train_samples.reshape(-1,1))\n",
        "print(scaled_train_samples)\n",
        "\n",
        "model = Sequential()\n",
        "model.add(Dense(units=16,input_shape=(1,),activation='relu'))\n",
        "model.add(Dense(units=32,activation='relu'))\n",
        "model.add(Dense(units=2,activation='softmax'))\n",
        "print(model)\n",
        "\n",
        "model.compile(optimizer=Adam(learning_rate=0.0001),loss='sparse_categorical_crossentropy',metrics=['accuracy'])\n",
        "model.fit(scaled_train_samples,train_labels,validation_split=0.1,batch_size=10,epochs=30,shuffle=True,verbose=2)\n",
        "# model.fit(scaled_train_samples, train_labels, validation_split=0.1, batch_size=10, epochs=20, shuffle=True, verbose=2)\n"
      ],
      "execution_count": 34,
      "outputs": [
        {
          "output_type": "stream",
          "text": [
            "[65 72 29 ... 73 53 14]\n",
            "[1 1 0 ... 1 0 0]\n",
            "[[0.59770115]\n",
            " [0.67816092]\n",
            " [0.18390805]\n",
            " ...\n",
            " [0.68965517]\n",
            " [0.45977011]\n",
            " [0.01149425]]\n",
            "<keras.engine.sequential.Sequential object at 0x7f8789a31f60>\n",
            "Train on 1890 samples, validate on 210 samples\n",
            "Epoch 1/30\n",
            " - 0s - loss: 0.6878 - accuracy: 0.5497 - val_loss: 0.6716 - val_accuracy: 0.5905\n",
            "Epoch 2/30\n",
            " - 0s - loss: 0.6564 - accuracy: 0.6492 - val_loss: 0.6443 - val_accuracy: 0.6619\n",
            "Epoch 3/30\n",
            " - 0s - loss: 0.6294 - accuracy: 0.7143 - val_loss: 0.6158 - val_accuracy: 0.7190\n",
            "Epoch 4/30\n",
            " - 0s - loss: 0.6006 - accuracy: 0.7566 - val_loss: 0.5848 - val_accuracy: 0.7524\n",
            "Epoch 5/30\n",
            " - 0s - loss: 0.5657 - accuracy: 0.8005 - val_loss: 0.5444 - val_accuracy: 0.8238\n",
            "Epoch 6/30\n",
            " - 0s - loss: 0.5300 - accuracy: 0.8370 - val_loss: 0.5107 - val_accuracy: 0.8381\n",
            "Epoch 7/30\n",
            " - 0s - loss: 0.4988 - accuracy: 0.8529 - val_loss: 0.4795 - val_accuracy: 0.8476\n",
            "Epoch 8/30\n",
            " - 0s - loss: 0.4688 - accuracy: 0.8545 - val_loss: 0.4469 - val_accuracy: 0.8762\n",
            "Epoch 9/30\n",
            " - 0s - loss: 0.4399 - accuracy: 0.8762 - val_loss: 0.4172 - val_accuracy: 0.8952\n",
            "Epoch 10/30\n",
            " - 0s - loss: 0.4139 - accuracy: 0.8862 - val_loss: 0.3911 - val_accuracy: 0.8952\n",
            "Epoch 11/30\n",
            " - 0s - loss: 0.3910 - accuracy: 0.8984 - val_loss: 0.3691 - val_accuracy: 0.8810\n",
            "Epoch 12/30\n",
            " - 0s - loss: 0.3711 - accuracy: 0.9026 - val_loss: 0.3483 - val_accuracy: 0.9190\n",
            "Epoch 13/30\n",
            " - 0s - loss: 0.3540 - accuracy: 0.9069 - val_loss: 0.3306 - val_accuracy: 0.9190\n",
            "Epoch 14/30\n",
            " - 0s - loss: 0.3393 - accuracy: 0.9132 - val_loss: 0.3152 - val_accuracy: 0.9286\n",
            "Epoch 15/30\n",
            " - 0s - loss: 0.3269 - accuracy: 0.9148 - val_loss: 0.3022 - val_accuracy: 0.9286\n",
            "Epoch 16/30\n",
            " - 0s - loss: 0.3166 - accuracy: 0.9169 - val_loss: 0.2915 - val_accuracy: 0.9286\n",
            "Epoch 17/30\n",
            " - 0s - loss: 0.3076 - accuracy: 0.9190 - val_loss: 0.2818 - val_accuracy: 0.9286\n",
            "Epoch 18/30\n",
            " - 0s - loss: 0.3003 - accuracy: 0.9228 - val_loss: 0.2744 - val_accuracy: 0.9286\n",
            "Epoch 19/30\n",
            " - 0s - loss: 0.2940 - accuracy: 0.9228 - val_loss: 0.2671 - val_accuracy: 0.9286\n",
            "Epoch 20/30\n",
            " - 0s - loss: 0.2890 - accuracy: 0.9243 - val_loss: 0.2613 - val_accuracy: 0.9524\n",
            "Epoch 21/30\n",
            " - 0s - loss: 0.2845 - accuracy: 0.9280 - val_loss: 0.2566 - val_accuracy: 0.9524\n",
            "Epoch 22/30\n",
            " - 0s - loss: 0.2804 - accuracy: 0.9328 - val_loss: 0.2529 - val_accuracy: 0.9286\n",
            "Epoch 23/30\n",
            " - 0s - loss: 0.2775 - accuracy: 0.9307 - val_loss: 0.2487 - val_accuracy: 0.9524\n",
            "Epoch 24/30\n",
            " - 0s - loss: 0.2746 - accuracy: 0.9307 - val_loss: 0.2455 - val_accuracy: 0.9524\n",
            "Epoch 25/30\n",
            " - 0s - loss: 0.2722 - accuracy: 0.9302 - val_loss: 0.2422 - val_accuracy: 0.9524\n",
            "Epoch 26/30\n",
            " - 0s - loss: 0.2702 - accuracy: 0.9339 - val_loss: 0.2401 - val_accuracy: 0.9524\n",
            "Epoch 27/30\n",
            " - 0s - loss: 0.2684 - accuracy: 0.9328 - val_loss: 0.2379 - val_accuracy: 0.9524\n",
            "Epoch 28/30\n",
            " - 0s - loss: 0.2667 - accuracy: 0.9354 - val_loss: 0.2360 - val_accuracy: 0.9524\n",
            "Epoch 29/30\n",
            " - 0s - loss: 0.2653 - accuracy: 0.9339 - val_loss: 0.2340 - val_accuracy: 0.9524\n",
            "Epoch 30/30\n",
            " - 0s - loss: 0.2640 - accuracy: 0.9354 - val_loss: 0.2323 - val_accuracy: 0.9524\n"
          ],
          "name": "stdout"
        },
        {
          "output_type": "execute_result",
          "data": {
            "text/plain": [
              "<keras.callbacks.callbacks.History at 0x7f8789708a20>"
            ]
          },
          "metadata": {
            "tags": []
          },
          "execution_count": 34
        }
      ]
    },
    {
      "cell_type": "markdown",
      "metadata": {
        "id": "lAvSrTuKMR-Q",
        "colab_type": "text"
      },
      "source": [
        "Preprocessing Data \n"
      ]
    },
    {
      "cell_type": "code",
      "metadata": {
        "id": "WV9ysQFOMVet",
        "colab_type": "code",
        "colab": {
          "base_uri": "https://localhost:8080/",
          "height": 450
        },
        "outputId": "f2f19873-dbe5-4cde-fec4-a7f26b6818e1"
      },
      "source": [
        "test_labels = []\n",
        "test_samples = [ ]\n",
        "\n",
        "for i in range(10):\n",
        "  random_younger = randint(13,64)\n",
        "  test_samples.append(random_younger)\n",
        "  test_labels.append(1)\n",
        "\n",
        "  random_older = randint(65,100)\n",
        "  test_samples.append(random_older)\n",
        "  test_labels.append(0)\n",
        "\n",
        "\n",
        "\n",
        "for i in range(200):\n",
        "  random_younger = randint(13,64)\n",
        "  test_samples.append(random_younger)\n",
        "  test_labels.append(0)\n",
        "\n",
        "  random_older = randint(65,100)\n",
        "  test_samples.append(random_older)\n",
        "  test_labels.append(1)\n",
        "\n",
        "print(test_labels)\n",
        "print(test_samples)\n",
        "test_labels = np.array(test_labels)\n",
        "test_sampels = np.array(test_samples)\n",
        "test_labels,test_samples = shuffle(test_labels,test_sampels)\n",
        "scaled_test_samples = scaler.fit_transform(test_samples.reshape(-1,1))\n",
        "\n",
        "##Predict\n",
        "predictions = model.predict(scaled_test_samples,batch_size=10,verbose=0)\n",
        "\n",
        "print(predictions[8])\n",
        "\n",
        "rounded_predictions = np.argmax(predictions,axis=-1)\n",
        "print(rounded_predictions[8])\n",
        "\n",
        "from sklearn.metrics import confusion_matrix \n",
        "import itertools \n",
        "import matplotlib.pyplot as plt\n",
        "\n",
        "cm = confusion_matrix(y_true=test_labels,y_pred=rounded_predictions)\n",
        "def plot_confusion_matrix(cm, classes,\n",
        "                          normalize=False,\n",
        "                          title='Confusion matrix',\n",
        "                          cmap=plt.cm.Blues):\n",
        "    \"\"\"\n",
        "    This function prints and plots the confusion matrix.\n",
        "    Normalization can be applied by setting `normalize=True`.\n",
        "    \"\"\"\n",
        "    plt.imshow(cm, interpolation='nearest', cmap=cmap)\n",
        "    plt.title(title)\n",
        "    plt.colorbar()\n",
        "    tick_marks = np.arange(len(classes))\n",
        "    plt.xticks(tick_marks, classes, rotation=45)\n",
        "    plt.yticks(tick_marks, classes)\n",
        "\n",
        "    if normalize:\n",
        "        cm = cm.astype('float') / cm.sum(axis=1)[:, np.newaxis]\n",
        "        print(\"Normalized confusion matrix\")\n",
        "    else:\n",
        "        print('Confusion matrix, without normalization')\n",
        "\n",
        "    print(cm)\n",
        "\n",
        "    thresh = cm.max() / 2.\n",
        "    for i, j in itertools.product(range(cm.shape[0]), range(cm.shape[1])):\n",
        "        plt.text(j, i, cm[i, j],\n",
        "                 horizontalalignment=\"center\",\n",
        "                 color=\"white\" if cm[i, j] > thresh else \"black\")\n",
        "\n",
        "    plt.tight_layout()\n",
        "    plt.ylabel('True label')\n",
        "    plt.xlabel('Predicted label')\n",
        "\n",
        "cm_plot_labels = ['no_side_effects','had_side_effects']\n",
        "plot_confusion_matrix(cm=cm,classes=cm_plot_labels,title=\"Confusion Matrix\")"
      ],
      "execution_count": 58,
      "outputs": [
        {
          "output_type": "stream",
          "text": [
            "[1, 0, 1, 0, 1, 0, 1, 0, 1, 0, 1, 0, 1, 0, 1, 0, 1, 0, 1, 0, 0, 1, 0, 1, 0, 1, 0, 1, 0, 1, 0, 1, 0, 1, 0, 1, 0, 1, 0, 1, 0, 1, 0, 1, 0, 1, 0, 1, 0, 1, 0, 1, 0, 1, 0, 1, 0, 1, 0, 1, 0, 1, 0, 1, 0, 1, 0, 1, 0, 1, 0, 1, 0, 1, 0, 1, 0, 1, 0, 1, 0, 1, 0, 1, 0, 1, 0, 1, 0, 1, 0, 1, 0, 1, 0, 1, 0, 1, 0, 1, 0, 1, 0, 1, 0, 1, 0, 1, 0, 1, 0, 1, 0, 1, 0, 1, 0, 1, 0, 1, 0, 1, 0, 1, 0, 1, 0, 1, 0, 1, 0, 1, 0, 1, 0, 1, 0, 1, 0, 1, 0, 1, 0, 1, 0, 1, 0, 1, 0, 1, 0, 1, 0, 1, 0, 1, 0, 1, 0, 1, 0, 1, 0, 1, 0, 1, 0, 1, 0, 1, 0, 1, 0, 1, 0, 1, 0, 1, 0, 1, 0, 1, 0, 1, 0, 1, 0, 1, 0, 1, 0, 1, 0, 1, 0, 1, 0, 1, 0, 1, 0, 1, 0, 1, 0, 1, 0, 1, 0, 1, 0, 1, 0, 1, 0, 1, 0, 1, 0, 1, 0, 1, 0, 1, 0, 1, 0, 1, 0, 1, 0, 1, 0, 1, 0, 1, 0, 1, 0, 1, 0, 1, 0, 1, 0, 1, 0, 1, 0, 1, 0, 1, 0, 1, 0, 1, 0, 1, 0, 1, 0, 1, 0, 1, 0, 1, 0, 1, 0, 1, 0, 1, 0, 1, 0, 1, 0, 1, 0, 1, 0, 1, 0, 1, 0, 1, 0, 1, 0, 1, 0, 1, 0, 1, 0, 1, 0, 1, 0, 1, 0, 1, 0, 1, 0, 1, 0, 1, 0, 1, 0, 1, 0, 1, 0, 1, 0, 1, 0, 1, 0, 1, 0, 1, 0, 1, 0, 1, 0, 1, 0, 1, 0, 1, 0, 1, 0, 1, 0, 1, 0, 1, 0, 1, 0, 1, 0, 1, 0, 1, 0, 1, 0, 1, 0, 1, 0, 1, 0, 1, 0, 1, 0, 1, 0, 1, 0, 1, 0, 1, 0, 1, 0, 1, 0, 1, 0, 1, 0, 1, 0, 1, 0, 1, 0, 1, 0, 1, 0, 1, 0, 1, 0, 1, 0, 1, 0, 1, 0, 1, 0, 1, 0, 1, 0, 1, 0, 1, 0, 1, 0, 1, 0, 1, 0, 1, 0, 1, 0, 1]\n",
            "[23, 85, 40, 96, 49, 92, 55, 72, 32, 79, 61, 89, 50, 94, 37, 87, 50, 88, 35, 81, 44, 93, 31, 67, 31, 76, 36, 69, 18, 94, 38, 79, 54, 87, 60, 69, 43, 84, 28, 100, 40, 71, 56, 78, 32, 81, 63, 74, 63, 91, 64, 87, 18, 89, 34, 75, 16, 77, 18, 96, 36, 73, 14, 83, 30, 86, 26, 92, 58, 93, 13, 79, 47, 92, 48, 79, 62, 84, 33, 71, 50, 68, 52, 97, 18, 73, 37, 90, 52, 89, 55, 74, 18, 67, 29, 86, 25, 84, 19, 77, 30, 91, 29, 83, 57, 96, 37, 84, 14, 69, 57, 67, 28, 91, 22, 87, 62, 68, 61, 93, 16, 95, 55, 85, 39, 74, 54, 65, 56, 81, 47, 96, 13, 87, 42, 70, 50, 87, 21, 89, 25, 69, 22, 69, 62, 88, 20, 78, 52, 81, 62, 85, 29, 72, 18, 93, 36, 93, 57, 84, 38, 76, 33, 81, 36, 97, 52, 74, 59, 100, 64, 90, 24, 76, 47, 95, 23, 82, 38, 94, 30, 76, 13, 92, 26, 82, 53, 70, 53, 98, 35, 92, 13, 68, 30, 76, 61, 72, 35, 87, 37, 87, 21, 74, 29, 81, 28, 79, 43, 86, 48, 84, 62, 67, 23, 72, 25, 92, 34, 79, 35, 83, 26, 85, 44, 68, 49, 65, 23, 100, 64, 76, 45, 99, 25, 93, 24, 66, 42, 71, 23, 99, 44, 67, 14, 81, 64, 95, 19, 82, 49, 82, 55, 74, 53, 81, 50, 70, 31, 71, 36, 83, 22, 90, 48, 80, 31, 96, 52, 72, 29, 78, 23, 91, 13, 98, 51, 84, 57, 85, 24, 88, 53, 98, 48, 87, 58, 88, 34, 98, 16, 82, 32, 68, 32, 100, 14, 98, 56, 70, 29, 94, 16, 98, 20, 83, 47, 87, 40, 76, 22, 93, 53, 96, 42, 72, 31, 89, 56, 66, 47, 73, 62, 95, 25, 86, 38, 100, 15, 71, 61, 77, 23, 94, 14, 76, 26, 69, 30, 71, 20, 79, 40, 91, 43, 80, 55, 90, 60, 68, 48, 79, 61, 71, 55, 66, 15, 87, 24, 86, 16, 78, 61, 65, 50, 91, 27, 86, 52, 71, 19, 85, 27, 95, 19, 70, 60, 65, 33, 81, 45, 65, 21, 76, 22, 90, 32, 67, 56, 75, 52, 66, 43, 99, 20, 80, 43, 94, 52, 90, 19, 81, 35, 96, 64, 84, 62, 68, 17, 90, 39, 91, 30, 92, 34, 98, 27, 90, 31, 83]\n",
            "[0.8473418  0.15265827]\n",
            "0\n",
            "Confusion matrix, without normalization\n",
            "[[193  17]\n",
            " [ 10 200]]\n"
          ],
          "name": "stdout"
        },
        {
          "output_type": "display_data",
          "data": {
            "image/png": "[encoded data removed]",
            "text/plain": [
              "<Figure size 432x288 with 2 Axes>"
            ]
          },
          "metadata": {
            "tags": [],
            "needs_background": "light"
          }
        }
      ]
    },
    {
      "cell_type": "markdown",
      "metadata": {
        "id": "AsMPgWvFUeyl",
        "colab_type": "text"
      },
      "source": [
        "Save and load a Model"
      ]
    },
    {
      "cell_type": "code",
      "metadata": {
        "id": "phypHl_kUjXI",
        "colab_type": "code",
        "colab": {
          "base_uri": "https://localhost:8080/",
          "height": 459
        },
        "outputId": "6f3c0db7-8fc6-483f-a189-2b0935324910"
      },
      "source": [
        "import os.path\n",
        "#if os.path.isfile('models/medical_trial_model.h5') is False:\n",
        "# model.save('models/medical_trial_model.h5','a')\n",
        "paths = \"Desktop/\"\n",
        "model.save('medical_trial_model.h5')\n"
      ],
      "execution_count": 72,
      "outputs": [
        {
          "output_type": "error",
          "ename": "OSError",
          "evalue": "ignored",
          "traceback": [
            "\u001b[0;31m---------------------------------------------------------------------------\u001b[0m",
            "\u001b[0;31mOSError\u001b[0m                                   Traceback (most recent call last)",
            "\u001b[0;32m<ipython-input-72-e994f27146d4>\u001b[0m in \u001b[0;36m<module>\u001b[0;34m()\u001b[0m\n\u001b[1;32m      3\u001b[0m \u001b[0;31m# model.save('models/medical_trial_model.h5','a')\u001b[0m\u001b[0;34m\u001b[0m\u001b[0;34m\u001b[0m\u001b[0;34m\u001b[0m\u001b[0m\n\u001b[1;32m      4\u001b[0m \u001b[0mpaths\u001b[0m \u001b[0;34m=\u001b[0m \u001b[0;34m\"Desktop/\"\u001b[0m\u001b[0;34m\u001b[0m\u001b[0;34m\u001b[0m\u001b[0m\n\u001b[0;32m----> 5\u001b[0;31m \u001b[0mmodel\u001b[0m\u001b[0;34m.\u001b[0m\u001b[0msave\u001b[0m\u001b[0;34m(\u001b[0m\u001b[0mpaths\u001b[0m \u001b[0;34m+\u001b[0m \u001b[0;34m'medical_trial_model.h5'\u001b[0m\u001b[0;34m)\u001b[0m\u001b[0;34m\u001b[0m\u001b[0;34m\u001b[0m\u001b[0m\n\u001b[0m",
            "\u001b[0;32m/usr/local/lib/python3.6/dist-packages/keras/engine/network.py\u001b[0m in \u001b[0;36msave\u001b[0;34m(self, filepath, overwrite, include_optimizer)\u001b[0m\n\u001b[1;32m   1150\u001b[0m             \u001b[0;32mraise\u001b[0m \u001b[0mNotImplementedError\u001b[0m\u001b[0;34m\u001b[0m\u001b[0;34m\u001b[0m\u001b[0m\n\u001b[1;32m   1151\u001b[0m         \u001b[0;32mfrom\u001b[0m \u001b[0;34m.\u001b[0m\u001b[0;34m.\u001b[0m\u001b[0mmodels\u001b[0m \u001b[0;32mimport\u001b[0m \u001b[0msave_model\u001b[0m\u001b[0;34m\u001b[0m\u001b[0;34m\u001b[0m\u001b[0m\n\u001b[0;32m-> 1152\u001b[0;31m         \u001b[0msave_model\u001b[0m\u001b[0;34m(\u001b[0m\u001b[0mself\u001b[0m\u001b[0;34m,\u001b[0m \u001b[0mfilepath\u001b[0m\u001b[0;34m,\u001b[0m \u001b[0moverwrite\u001b[0m\u001b[0;34m,\u001b[0m \u001b[0minclude_optimizer\u001b[0m\u001b[0;34m)\u001b[0m\u001b[0;34m\u001b[0m\u001b[0;34m\u001b[0m\u001b[0m\n\u001b[0m\u001b[1;32m   1153\u001b[0m \u001b[0;34m\u001b[0m\u001b[0m\n\u001b[1;32m   1154\u001b[0m     \u001b[0;34m@\u001b[0m\u001b[0msaving\u001b[0m\u001b[0;34m.\u001b[0m\u001b[0mallow_write_to_gcs\u001b[0m\u001b[0;34m\u001b[0m\u001b[0;34m\u001b[0m\u001b[0m\n",
            "\u001b[0;32m/usr/local/lib/python3.6/dist-packages/keras/engine/saving.py\u001b[0m in \u001b[0;36msave_wrapper\u001b[0;34m(obj, filepath, overwrite, *args, **kwargs)\u001b[0m\n\u001b[1;32m    447\u001b[0m                 \u001b[0mos\u001b[0m\u001b[0;34m.\u001b[0m\u001b[0mremove\u001b[0m\u001b[0;34m(\u001b[0m\u001b[0mtmp_filepath\u001b[0m\u001b[0;34m)\u001b[0m\u001b[0;34m\u001b[0m\u001b[0;34m\u001b[0m\u001b[0m\n\u001b[1;32m    448\u001b[0m         \u001b[0;32melse\u001b[0m\u001b[0;34m:\u001b[0m\u001b[0;34m\u001b[0m\u001b[0;34m\u001b[0m\u001b[0m\n\u001b[0;32m--> 449\u001b[0;31m             \u001b[0msave_function\u001b[0m\u001b[0;34m(\u001b[0m\u001b[0mobj\u001b[0m\u001b[0;34m,\u001b[0m \u001b[0mfilepath\u001b[0m\u001b[0;34m,\u001b[0m \u001b[0moverwrite\u001b[0m\u001b[0;34m,\u001b[0m \u001b[0;34m*\u001b[0m\u001b[0margs\u001b[0m\u001b[0;34m,\u001b[0m \u001b[0;34m**\u001b[0m\u001b[0mkwargs\u001b[0m\u001b[0;34m)\u001b[0m\u001b[0;34m\u001b[0m\u001b[0;34m\u001b[0m\u001b[0m\n\u001b[0m\u001b[1;32m    450\u001b[0m \u001b[0;34m\u001b[0m\u001b[0m\n\u001b[1;32m    451\u001b[0m     \u001b[0;32mreturn\u001b[0m \u001b[0msave_wrapper\u001b[0m\u001b[0;34m\u001b[0m\u001b[0;34m\u001b[0m\u001b[0m\n",
            "\u001b[0;32m/usr/local/lib/python3.6/dist-packages/keras/engine/saving.py\u001b[0m in \u001b[0;36msave_model\u001b[0;34m(model, filepath, overwrite, include_optimizer)\u001b[0m\n\u001b[1;32m    538\u001b[0m             \u001b[0;32mif\u001b[0m \u001b[0;32mnot\u001b[0m \u001b[0mproceed\u001b[0m\u001b[0;34m:\u001b[0m\u001b[0;34m\u001b[0m\u001b[0;34m\u001b[0m\u001b[0m\n\u001b[1;32m    539\u001b[0m                 \u001b[0;32mreturn\u001b[0m\u001b[0;34m\u001b[0m\u001b[0;34m\u001b[0m\u001b[0m\n\u001b[0;32m--> 540\u001b[0;31m         \u001b[0;32mwith\u001b[0m \u001b[0mH5Dict\u001b[0m\u001b[0;34m(\u001b[0m\u001b[0mfilepath\u001b[0m\u001b[0;34m,\u001b[0m \u001b[0mmode\u001b[0m\u001b[0;34m=\u001b[0m\u001b[0;34m'w'\u001b[0m\u001b[0;34m)\u001b[0m \u001b[0;32mas\u001b[0m \u001b[0mh5dict\u001b[0m\u001b[0;34m:\u001b[0m\u001b[0;34m\u001b[0m\u001b[0;34m\u001b[0m\u001b[0m\n\u001b[0m\u001b[1;32m    541\u001b[0m             \u001b[0m_serialize_model\u001b[0m\u001b[0;34m(\u001b[0m\u001b[0mmodel\u001b[0m\u001b[0;34m,\u001b[0m \u001b[0mh5dict\u001b[0m\u001b[0;34m,\u001b[0m \u001b[0minclude_optimizer\u001b[0m\u001b[0;34m)\u001b[0m\u001b[0;34m\u001b[0m\u001b[0;34m\u001b[0m\u001b[0m\n\u001b[1;32m    542\u001b[0m     \u001b[0;32melif\u001b[0m \u001b[0mhasattr\u001b[0m\u001b[0;34m(\u001b[0m\u001b[0mfilepath\u001b[0m\u001b[0;34m,\u001b[0m \u001b[0;34m'write'\u001b[0m\u001b[0;34m)\u001b[0m \u001b[0;32mand\u001b[0m \u001b[0mcallable\u001b[0m\u001b[0;34m(\u001b[0m\u001b[0mfilepath\u001b[0m\u001b[0;34m.\u001b[0m\u001b[0mwrite\u001b[0m\u001b[0;34m)\u001b[0m\u001b[0;34m:\u001b[0m\u001b[0;34m\u001b[0m\u001b[0;34m\u001b[0m\u001b[0m\n",
            "\u001b[0;32m/usr/local/lib/python3.6/dist-packages/keras/utils/io_utils.py\u001b[0m in \u001b[0;36m__init__\u001b[0;34m(self, path, mode)\u001b[0m\n\u001b[1;32m    189\u001b[0m             \u001b[0mself\u001b[0m\u001b[0;34m.\u001b[0m\u001b[0m_is_file\u001b[0m \u001b[0;34m=\u001b[0m \u001b[0;32mFalse\u001b[0m\u001b[0;34m\u001b[0m\u001b[0;34m\u001b[0m\u001b[0m\n\u001b[1;32m    190\u001b[0m         \u001b[0;32melif\u001b[0m \u001b[0misinstance\u001b[0m\u001b[0;34m(\u001b[0m\u001b[0mpath\u001b[0m\u001b[0;34m,\u001b[0m \u001b[0msix\u001b[0m\u001b[0;34m.\u001b[0m\u001b[0mstring_types\u001b[0m\u001b[0;34m)\u001b[0m \u001b[0;32mor\u001b[0m \u001b[0m_is_path_instance\u001b[0m\u001b[0;34m(\u001b[0m\u001b[0mpath\u001b[0m\u001b[0;34m)\u001b[0m\u001b[0;34m:\u001b[0m\u001b[0;34m\u001b[0m\u001b[0;34m\u001b[0m\u001b[0m\n\u001b[0;32m--> 191\u001b[0;31m             \u001b[0mself\u001b[0m\u001b[0;34m.\u001b[0m\u001b[0mdata\u001b[0m \u001b[0;34m=\u001b[0m \u001b[0mh5py\u001b[0m\u001b[0;34m.\u001b[0m\u001b[0mFile\u001b[0m\u001b[0;34m(\u001b[0m\u001b[0mpath\u001b[0m\u001b[0;34m,\u001b[0m \u001b[0mmode\u001b[0m\u001b[0;34m=\u001b[0m\u001b[0mmode\u001b[0m\u001b[0;34m)\u001b[0m\u001b[0;34m\u001b[0m\u001b[0;34m\u001b[0m\u001b[0m\n\u001b[0m\u001b[1;32m    192\u001b[0m             \u001b[0mself\u001b[0m\u001b[0;34m.\u001b[0m\u001b[0m_is_file\u001b[0m \u001b[0;34m=\u001b[0m \u001b[0;32mTrue\u001b[0m\u001b[0;34m\u001b[0m\u001b[0;34m\u001b[0m\u001b[0m\n\u001b[1;32m    193\u001b[0m         \u001b[0;32melif\u001b[0m \u001b[0misinstance\u001b[0m\u001b[0;34m(\u001b[0m\u001b[0mpath\u001b[0m\u001b[0;34m,\u001b[0m \u001b[0mdict\u001b[0m\u001b[0;34m)\u001b[0m\u001b[0;34m:\u001b[0m\u001b[0;34m\u001b[0m\u001b[0;34m\u001b[0m\u001b[0m\n",
            "\u001b[0;32m/usr/local/lib/python3.6/dist-packages/h5py/_hl/files.py\u001b[0m in \u001b[0;36m__init__\u001b[0;34m(self, name, mode, driver, libver, userblock_size, swmr, rdcc_nslots, rdcc_nbytes, rdcc_w0, track_order, **kwds)\u001b[0m\n\u001b[1;32m    406\u001b[0m                 fid = make_fid(name, mode, userblock_size,\n\u001b[1;32m    407\u001b[0m                                \u001b[0mfapl\u001b[0m\u001b[0;34m,\u001b[0m \u001b[0mfcpl\u001b[0m\u001b[0;34m=\u001b[0m\u001b[0mmake_fcpl\u001b[0m\u001b[0;34m(\u001b[0m\u001b[0mtrack_order\u001b[0m\u001b[0;34m=\u001b[0m\u001b[0mtrack_order\u001b[0m\u001b[0;34m)\u001b[0m\u001b[0;34m,\u001b[0m\u001b[0;34m\u001b[0m\u001b[0;34m\u001b[0m\u001b[0m\n\u001b[0;32m--> 408\u001b[0;31m                                swmr=swmr)\n\u001b[0m\u001b[1;32m    409\u001b[0m \u001b[0;34m\u001b[0m\u001b[0m\n\u001b[1;32m    410\u001b[0m             \u001b[0;32mif\u001b[0m \u001b[0misinstance\u001b[0m\u001b[0;34m(\u001b[0m\u001b[0mlibver\u001b[0m\u001b[0;34m,\u001b[0m \u001b[0mtuple\u001b[0m\u001b[0;34m)\u001b[0m\u001b[0;34m:\u001b[0m\u001b[0;34m\u001b[0m\u001b[0;34m\u001b[0m\u001b[0m\n",
            "\u001b[0;32m/usr/local/lib/python3.6/dist-packages/h5py/_hl/files.py\u001b[0m in \u001b[0;36mmake_fid\u001b[0;34m(name, mode, userblock_size, fapl, fcpl, swmr)\u001b[0m\n\u001b[1;32m    177\u001b[0m         \u001b[0mfid\u001b[0m \u001b[0;34m=\u001b[0m \u001b[0mh5f\u001b[0m\u001b[0;34m.\u001b[0m\u001b[0mcreate\u001b[0m\u001b[0;34m(\u001b[0m\u001b[0mname\u001b[0m\u001b[0;34m,\u001b[0m \u001b[0mh5f\u001b[0m\u001b[0;34m.\u001b[0m\u001b[0mACC_EXCL\u001b[0m\u001b[0;34m,\u001b[0m \u001b[0mfapl\u001b[0m\u001b[0;34m=\u001b[0m\u001b[0mfapl\u001b[0m\u001b[0;34m,\u001b[0m \u001b[0mfcpl\u001b[0m\u001b[0;34m=\u001b[0m\u001b[0mfcpl\u001b[0m\u001b[0;34m)\u001b[0m\u001b[0;34m\u001b[0m\u001b[0;34m\u001b[0m\u001b[0m\n\u001b[1;32m    178\u001b[0m     \u001b[0;32melif\u001b[0m \u001b[0mmode\u001b[0m \u001b[0;34m==\u001b[0m \u001b[0;34m'w'\u001b[0m\u001b[0;34m:\u001b[0m\u001b[0;34m\u001b[0m\u001b[0;34m\u001b[0m\u001b[0m\n\u001b[0;32m--> 179\u001b[0;31m         \u001b[0mfid\u001b[0m \u001b[0;34m=\u001b[0m \u001b[0mh5f\u001b[0m\u001b[0;34m.\u001b[0m\u001b[0mcreate\u001b[0m\u001b[0;34m(\u001b[0m\u001b[0mname\u001b[0m\u001b[0;34m,\u001b[0m \u001b[0mh5f\u001b[0m\u001b[0;34m.\u001b[0m\u001b[0mACC_TRUNC\u001b[0m\u001b[0;34m,\u001b[0m \u001b[0mfapl\u001b[0m\u001b[0;34m=\u001b[0m\u001b[0mfapl\u001b[0m\u001b[0;34m,\u001b[0m \u001b[0mfcpl\u001b[0m\u001b[0;34m=\u001b[0m\u001b[0mfcpl\u001b[0m\u001b[0;34m)\u001b[0m\u001b[0;34m\u001b[0m\u001b[0;34m\u001b[0m\u001b[0m\n\u001b[0m\u001b[1;32m    180\u001b[0m     \u001b[0;32melif\u001b[0m \u001b[0mmode\u001b[0m \u001b[0;34m==\u001b[0m \u001b[0;34m'a'\u001b[0m\u001b[0;34m:\u001b[0m\u001b[0;34m\u001b[0m\u001b[0;34m\u001b[0m\u001b[0m\n\u001b[1;32m    181\u001b[0m         \u001b[0;31m# Open in append mode (read/write).\u001b[0m\u001b[0;34m\u001b[0m\u001b[0;34m\u001b[0m\u001b[0;34m\u001b[0m\u001b[0m\n",
            "\u001b[0;32mh5py/_objects.pyx\u001b[0m in \u001b[0;36mh5py._objects.with_phil.wrapper\u001b[0;34m()\u001b[0m\n",
            "\u001b[0;32mh5py/_objects.pyx\u001b[0m in \u001b[0;36mh5py._objects.with_phil.wrapper\u001b[0;34m()\u001b[0m\n",
            "\u001b[0;32mh5py/h5f.pyx\u001b[0m in \u001b[0;36mh5py.h5f.create\u001b[0;34m()\u001b[0m\n",
            "\u001b[0;31mOSError\u001b[0m: Unable to create file (unable to open file: name = 'Desktop/medical_trial_model.h5', errno = 2, error message = 'No such file or directory', flags = 13, o_flags = 242)"
          ]
        }
      ]
    }
  ]
}